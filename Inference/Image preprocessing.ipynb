{
 "cells": [
  {
   "cell_type": "markdown",
   "id": "90092387",
   "metadata": {},
   "source": [
    "## Code to move images from subfolders to main folders"
   ]
  },
  {
   "cell_type": "code",
   "execution_count": null,
   "id": "d39cae48",
   "metadata": {},
   "outputs": [],
   "source": [
    "import os\n",
    "import shutil\n",
    "def move_images(main_folder):\n",
    "    for root,dirs,files in os.walk(main_folder):\n",
    "        print(root,dirs,files)\n",
    "        for file in files:\n",
    "            source = os.path.join(root,file)\n",
    "            dest = os.path.join(main_folder,file)\n",
    "            shutil.move(source,dest) "
   ]
  },
  {
   "cell_type": "code",
   "execution_count": null,
   "id": "6877912e",
   "metadata": {},
   "outputs": [],
   "source": [
    "#Add the path to input directory\n",
    "main_folder = '/users/PAS2186/balasubramaniam29/BIWA1/'\n",
    "move_images(main_folder)"
   ]
  },
  {
   "cell_type": "markdown",
   "id": "a481a19a",
   "metadata": {},
   "source": [
    "## Performing inference using hierarchical model"
   ]
  },
  {
   "cell_type": "code",
   "execution_count": null,
   "id": "4a590707",
   "metadata": {},
   "outputs": [],
   "source": [
    "import tensorflow as tf\n",
    "from tensorflow.keras.models import load_model\n",
    "from tensorflow.keras.preprocessing.image import img_to_array, load_img\n",
    "import numpy as np\n",
    "import os\n",
    "import shutil\n",
    "import matplotlib.pyplot as plt"
   ]
  },
  {
   "cell_type": "code",
   "execution_count": null,
   "id": "b0a77ace",
   "metadata": {},
   "outputs": [],
   "source": [
    "#Threshold values can be modified\n",
    "class_thresholds = {\n",
    "    'class' :0.6,\n",
    "    'amphibia': 0.1,\n",
    "    'aves': 0.5,\n",
    "    'mammalia': 0.8,\n",
    "    'serpentes': 0.9\n",
    "}\n",
    "\n",
    "labels = {\n",
    "    'class' : ['amphibia', 'aves', 'invertebrates', 'lacertilia', 'mammalia', 'serpentes', 'testudines'],\n",
    "    'serpentes': [\"Butler's Gartersnake\", \"Dekay's Brownsnake\", 'Eastern Gartersnake', 'Eastern Hog-nosed snake', 'Eastern Massasauga', 'Eastern Milksnake', 'Eastern Racer Snake', 'Eastern Ribbonsnake', 'Gray Ratsnake', \"Kirtland's Snake\", 'Northern Watersnake', 'Plains Gartersnake', 'Red-bellied Snake', 'Smooth Greensnake'],\n",
    "    'mammalia': ['American Mink', 'Brown Rat', 'Eastern Chipmunk', 'Eastern Cottontail', 'Long-tailed Weasel', 'Masked Shrew', 'Meadow Jumping Mouse', 'Meadow Vole', 'N. Short-tailed Shrew', 'Raccoon', 'Star-nosed mole', 'Striped Skunk', 'Virginia Opossum', 'White-footed Mouse', 'Woodchuck', 'Woodland Jumping Mouse'],\n",
    "    'aves': ['Common Yellowthroat', 'Gray Catbird', 'Indigo Bunting', 'Northern House Wren', 'Song Sparrow', 'Sora'],\n",
    "    'amphibia': ['American Bullfrog', 'American Toad', 'Green Frog', 'Northern Leopard Frog']\n",
    "}"
   ]
  },
  {
   "cell_type": "code",
   "execution_count": null,
   "id": "5a01608a",
   "metadata": {},
   "outputs": [],
   "source": [
    "hierarchical_models = {}\n",
    "for label in labels:\n",
    "    hierarchical_models[label] = load_model(f\"Models/inceptionv3_{label}.h5\")\n",
    "\n",
    "def load_and_preprocess_image(image_path, target_size=(224, 224)):\n",
    "    img = load_img(image_path, target_size=target_size)\n",
    "    img_array = img_to_array(img)\n",
    "    img_array = np.expand_dims(img_array, axis=0)\n",
    "    img_array = tf.keras.applications.inception_v3.preprocess_input(img_array)\n",
    "    return img_array\n",
    "\n",
    "def copy_images(source_dir,image_path,label,confidence,thresold):\n",
    "    if confidence<thresold:\n",
    "        human_review_dir = os.path.join(source_dir,'human',label)\n",
    "        os.makedirs(human_review_dir, exist_ok=True)\n",
    "        human_review_path = os.path.join(human_review_dir, os.path.basename(image_path))\n",
    "        shutil.copy(image_path,human_review_path)\n",
    "    else:\n",
    "        output_path = os.path.join(source_dir,label)\n",
    "        os.makedirs(output_path, exist_ok=True)\n",
    "        output_dir = os.path.join(output_path, os.path.basename(image_path))\n",
    "        shutil.copy(image_path,output_dir)\n",
    "\n",
    "def process_images(input_d,level,dir_name):\n",
    "    input_dir = os.path.join(input_d,dir_name)\n",
    "    image_paths = [os.path.join(input_dir, fname) for fname in os.listdir(input_dir)]\n",
    "    images = np.vstack([load_and_preprocess_image(image_path) for image_path in image_paths])\n",
    "    predictions = hierarchical_models[level].predict(images)\n",
    "    for image_path, prediction in zip(image_paths, predictions):\n",
    "        predicted_class_index = np.argmax(prediction)\n",
    "        predicted_class_label = labels[level][predicted_class_index]\n",
    "        confidence = prediction[predicted_class_index]\n",
    "        copy_images(input_d,image_path,predicted_class_label,confidence,class_thresholds[level])\n",
    "    if level==\"class\":\n",
    "        for label in ['serpentes','mammalia','aves','amphibia']:\n",
    "            class_dir = os.path.join(input_d, label)\n",
    "            if os.path.exists(class_dir):\n",
    "                process_images(input_d,label,label)\n",
    "            "
   ]
  },
  {
   "cell_type": "code",
   "execution_count": null,
   "id": "5677ef17",
   "metadata": {},
   "outputs": [],
   "source": [
    "input_dir = \"/Users/Desktop/\"\n",
    "process_images(input_dir,'class',\"test\")"
   ]
  }
 ],
 "metadata": {
  "kernelspec": {
   "display_name": "Python 3 (ipykernel)",
   "language": "python",
   "name": "python3"
  },
  "language_info": {
   "codemirror_mode": {
    "name": "ipython",
    "version": 3
   },
   "file_extension": ".py",
   "mimetype": "text/x-python",
   "name": "python",
   "nbconvert_exporter": "python",
   "pygments_lexer": "ipython3",
   "version": "3.11.4"
  }
 },
 "nbformat": 4,
 "nbformat_minor": 5
}
